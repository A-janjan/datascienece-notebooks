{
  "nbformat": 4,
  "nbformat_minor": 0,
  "metadata": {
    "colab": {
      "provenance": []
    },
    "kernelspec": {
      "name": "python3",
      "display_name": "Python 3"
    },
    "language_info": {
      "name": "python"
    }
  },
  "cells": [
    {
      "cell_type": "markdown",
      "source": [
        "## donwload"
      ],
      "metadata": {
        "id": "SeOImve4sm_S"
      }
    },
    {
      "cell_type": "code",
      "execution_count": null,
      "metadata": {
        "id": "JTPgSWzL_a_4"
      },
      "outputs": [],
      "source": [
        "!wget https://zenodo.org/records/3678171/files/dev_data_pump.zip?download=1 -O dev_data_pump.zip\n",
        "!unzip dev_data_pump.zip"
      ]
    },
    {
      "cell_type": "code",
      "metadata": {
        "id": "1fbb6b33"
      },
      "source": [
        "from google.colab import drive\n",
        "drive.mount('/content/drive')"
      ],
      "execution_count": null,
      "outputs": []
    },
    {
      "cell_type": "code",
      "metadata": {
        "id": "1a65aef5"
      },
      "source": [
        "import shutil\n",
        "import os\n",
        "\n",
        "# Define the source path of the 'pump' folder\n",
        "source_path = 'pump'\n",
        "\n",
        "# Define the destination path within your mounted Google Drive\n",
        "# Replace 'Your Drive Folder' with the actual folder name in your Google Drive where you want to copy\n",
        "destination_path = '/content/drive/MyDrive/DATAs/pump_copied'\n",
        "\n",
        "# Check if the destination path already exists and remove it if it does\n",
        "if os.path.exists(destination_path):\n",
        "    shutil.rmtree(destination_path)\n",
        "\n",
        "# Use the shutil.copytree() function to copy the 'pump' folder\n",
        "shutil.copytree(source_path, destination_path)\n",
        "\n",
        "print(f\"Folder '{source_path}' copied to '{destination_path}'\")"
      ],
      "execution_count": null,
      "outputs": []
    },
    {
      "cell_type": "markdown",
      "source": [
        "## load data"
      ],
      "metadata": {
        "id": "zug3DEpTsrs8"
      }
    },
    {
      "cell_type": "code",
      "source": [
        "from google.colab import drive\n",
        "drive.mount('/content/drive')"
      ],
      "metadata": {
        "colab": {
          "base_uri": "https://localhost:8080/"
        },
        "id": "Qsq5FylDEiyR",
        "outputId": "163bd26b-213e-4b5c-b852-06b6f610a6d0"
      },
      "execution_count": null,
      "outputs": [
        {
          "output_type": "stream",
          "name": "stdout",
          "text": [
            "Drive already mounted at /content/drive; to attempt to forcibly remount, call drive.mount(\"/content/drive\", force_remount=True).\n"
          ]
        }
      ]
    },
    {
      "cell_type": "code",
      "metadata": {
        "colab": {
          "base_uri": "https://localhost:8080/"
        },
        "id": "b685178a",
        "outputId": "afba3901-3e21-449e-d965-99a687171811"
      },
      "source": [
        "import os\n",
        "\n",
        "base_path = '/content/drive/MyDrive/DATAs/pump_copied'\n",
        "test_dir = os.path.join(base_path, 'test')\n",
        "train_dir = os.path.join(base_path, 'train')\n",
        "\n",
        "if os.path.exists(test_dir):\n",
        "    print(\"OK\")\n",
        "else:\n",
        "    print(f\"Error: '{test_dir}' not found.\")\n",
        "\n",
        "if os.path.exists(train_dir):\n",
        "    print(\"OK\")\n",
        "else:\n",
        "    print(f\"Error: '{train_dir}' not found.\")"
      ],
      "execution_count": null,
      "outputs": [
        {
          "output_type": "stream",
          "name": "stdout",
          "text": [
            "OK\n",
            "OK\n"
          ]
        }
      ]
    },
    {
      "cell_type": "markdown",
      "source": [
        "## install dependencies and imports"
      ],
      "metadata": {
        "id": "o99oKV7tvOod"
      }
    },
    {
      "cell_type": "code",
      "source": [
        "!pip install librosa numpy scikit-learn matplotlib torch torchaudio tqdm"
      ],
      "metadata": {
        "id": "QNTfrJYfuWFH"
      },
      "execution_count": null,
      "outputs": []
    },
    {
      "cell_type": "code",
      "source": [
        "import os\n",
        "import librosa\n",
        "import numpy as np\n",
        "import matplotlib.pyplot as plt\n",
        "from tqdm import tqdm\n",
        "import torch\n",
        "import torch.nn as nn\n",
        "from sklearn.metrics import roc_auc_score\n",
        "from sklearn.preprocessing import StandardScaler"
      ],
      "metadata": {
        "id": "1_06hMUmvSMB"
      },
      "execution_count": null,
      "outputs": []
    },
    {
      "cell_type": "code",
      "source": [
        "def extract_logmel(path, n_mels=64, sr=16000, hop_length=512):\n",
        "    y, sr = librosa.load(path, sr=sr)\n",
        "    mel = librosa.feature.melspectrogram(y=y, sr=sr, n_mels=n_mels, hop_length=hop_length)\n",
        "    logmel = librosa.power_to_db(mel)\n",
        "    return logmel.T  # (time, mel)"
      ],
      "metadata": {
        "id": "RByeAZDu15Gd"
      },
      "execution_count": null,
      "outputs": []
    },
    {
      "cell_type": "code",
      "source": [
        "def build_feature_dataset(directory, label=None):\n",
        "    X, y = [], []\n",
        "    for file in tqdm(sorted(os.listdir(directory))):\n",
        "        if file.endswith(\".wav\"):\n",
        "            fpath = os.path.join(directory, file)\n",
        "            feat = extract_logmel(fpath)\n",
        "            # Flatten mean & std per mel band\n",
        "            features = np.hstack([feat.mean(axis=0), feat.std(axis=0)])\n",
        "            X.append(features)\n",
        "            if label is not None:\n",
        "                y.append(label)\n",
        "    return np.array(X), (np.array(y) if label is not None else None)"
      ],
      "metadata": {
        "id": "67VieoB39yRB"
      },
      "execution_count": null,
      "outputs": []
    },
    {
      "cell_type": "code",
      "source": [
        "# Load train (normal) data\n",
        "X_train, _ = build_feature_dataset(train_dir, label=0)\n",
        "\n",
        "# Normalize\n",
        "scaler = StandardScaler()\n",
        "X_train = scaler.fit_transform(X_train)\n",
        "\n",
        "print(\"Train shape:\", X_train.shape)"
      ],
      "metadata": {
        "colab": {
          "base_uri": "https://localhost:8080/"
        },
        "id": "PIbbqmXN99nF",
        "outputId": "a33e3ef2-a4ac-41f4-aed6-01b0efa85112"
      },
      "execution_count": null,
      "outputs": [
        {
          "output_type": "stream",
          "name": "stderr",
          "text": [
            "100%|██████████| 3349/3349 [02:56<00:00, 18.99it/s]"
          ]
        },
        {
          "output_type": "stream",
          "name": "stdout",
          "text": [
            "Train shape: (3349, 128)\n"
          ]
        },
        {
          "output_type": "stream",
          "name": "stderr",
          "text": [
            "\n"
          ]
        }
      ]
    },
    {
      "cell_type": "markdown",
      "source": [
        "## model"
      ],
      "metadata": {
        "id": "iXRYVThHBcpB"
      }
    },
    {
      "cell_type": "code",
      "source": [
        "# --- 4. Autoencoder Model (Simple Dense) ---\n",
        "class Autoencoder(nn.Module):\n",
        "    def __init__(self, input_dim):\n",
        "        super().__init__()\n",
        "        self.encoder = nn.Sequential(\n",
        "            nn.Linear(input_dim, 64),\n",
        "            nn.ReLU(),\n",
        "            nn.Linear(64, 16)\n",
        "        )\n",
        "        self.decoder = nn.Sequential(\n",
        "            nn.Linear(16, 64),\n",
        "            nn.ReLU(),\n",
        "            nn.Linear(64, input_dim)\n",
        "        )\n",
        "\n",
        "    def forward(self, x):\n",
        "        z = self.encoder(x)\n",
        "        return self.decoder(z)\n",
        "\n",
        "input_dim = X_train.shape[1]\n",
        "model = Autoencoder(input_dim)"
      ],
      "metadata": {
        "id": "rYhzco9V_FLe"
      },
      "execution_count": null,
      "outputs": []
    },
    {
      "cell_type": "code",
      "source": [
        "# --- 5. Training ---\n",
        "device = \"cuda\" if torch.cuda.is_available() else \"cpu\"\n",
        "model.to(device)\n",
        "\n",
        "optimizer = torch.optim.Adam(model.parameters(), lr=1e-3)\n",
        "criterion = nn.MSELoss()\n",
        "\n",
        "X_tensor = torch.tensor(X_train, dtype=torch.float32).to(device)\n",
        "batch_size = 32"
      ],
      "metadata": {
        "id": "Gn2dRqLKBsKy"
      },
      "execution_count": null,
      "outputs": []
    },
    {
      "cell_type": "code",
      "source": [
        "for epoch in range(20):\n",
        "    perm = torch.randperm(X_tensor.size(0))\n",
        "    epoch_loss = 0\n",
        "    for i in range(0, X_tensor.size(0), batch_size):\n",
        "        batch = X_tensor[perm[i:i+batch_size]]\n",
        "        recon = model(batch)\n",
        "        loss = criterion(recon, batch)\n",
        "        optimizer.zero_grad()\n",
        "        loss.backward()\n",
        "        optimizer.step()\n",
        "        epoch_loss += loss.item()\n",
        "    print(f\"Epoch {epoch+1}, Loss {epoch_loss:.4f}\")"
      ],
      "metadata": {
        "colab": {
          "base_uri": "https://localhost:8080/"
        },
        "id": "c_Zd-3akCJwW",
        "outputId": "4314699c-e596-4037-d63c-a2609b1e9687"
      },
      "execution_count": null,
      "outputs": [
        {
          "output_type": "stream",
          "name": "stdout",
          "text": [
            "Epoch 1, Loss 66.3721\n",
            "Epoch 2, Loss 36.6923\n",
            "Epoch 3, Loss 28.7554\n",
            "Epoch 4, Loss 25.8311\n",
            "Epoch 5, Loss 23.8367\n",
            "Epoch 6, Loss 22.2743\n",
            "Epoch 7, Loss 21.0698\n",
            "Epoch 8, Loss 20.2480\n",
            "Epoch 9, Loss 19.5139\n",
            "Epoch 10, Loss 18.9709\n",
            "Epoch 11, Loss 18.5203\n",
            "Epoch 12, Loss 18.0976\n",
            "Epoch 13, Loss 17.7461\n",
            "Epoch 14, Loss 17.4742\n",
            "Epoch 15, Loss 17.1759\n",
            "Epoch 16, Loss 16.9008\n",
            "Epoch 17, Loss 16.6376\n",
            "Epoch 18, Loss 16.4142\n",
            "Epoch 19, Loss 16.2481\n",
            "Epoch 20, Loss 16.0930\n"
          ]
        }
      ]
    },
    {
      "cell_type": "markdown",
      "source": [
        "## test"
      ],
      "metadata": {
        "id": "4IwbiX01CY-n"
      }
    },
    {
      "cell_type": "code",
      "source": [
        "# --- 6. Test & Anomaly Scoring ---\n",
        "# Build test features (both normal and anomaly)\n",
        "X_test, y_test = [], []\n",
        "for label, subdir in enumerate([\"normal\", \"anomaly\"]):\n",
        "    X, y = build_feature_dataset(os.path.join(test_dir, subdir), label=label)\n",
        "    X_test.append(X)\n",
        "    y_test.append(y)\n",
        "\n",
        "X_test = np.vstack(X_test)\n",
        "y_test = np.concatenate(y_test)\n",
        "X_test = scaler.transform(X_test)\n",
        "\n",
        "# Compute reconstruction errors\n",
        "model.eval()\n",
        "with torch.no_grad():\n",
        "    X_tensor = torch.tensor(X_test, dtype=torch.float32).to(device)\n",
        "    recon = model(X_tensor)\n",
        "    errors = ((X_tensor - recon)**2).mean(dim=1).cpu().numpy()\n",
        "\n",
        "# Normalize errors for visualization\n",
        "threshold = np.percentile(errors, 95)  # Top 5% as anomaly\n",
        "preds = (errors > threshold).astype(int)"
      ],
      "metadata": {
        "colab": {
          "base_uri": "https://localhost:8080/"
        },
        "id": "zJAQ8sJFCOxH",
        "outputId": "cef24257-0bde-4e79-9695-37fde2cfc6f9"
      },
      "execution_count": null,
      "outputs": [
        {
          "output_type": "stream",
          "name": "stderr",
          "text": [
            "100%|██████████| 400/400 [00:15<00:00, 26.62it/s]\n",
            "100%|██████████| 456/456 [00:16<00:00, 28.49it/s]\n"
          ]
        }
      ]
    },
    {
      "cell_type": "code",
      "source": [
        "# --- 7. Evaluation ---\n",
        "auc = roc_auc_score(y_test, errors)\n",
        "print(\"ROC AUC:\", auc)\n",
        "\n",
        "plt.hist(errors[y_test==0], bins=30, alpha=0.5, label=\"Normal\")\n",
        "plt.hist(errors[y_test==1], bins=30, alpha=0.5, label=\"Anomaly\")\n",
        "plt.axvline(threshold, color=\"red\", linestyle=\"--\", label=\"Threshold\")\n",
        "plt.legend()\n",
        "plt.title(\"Reconstruction Error Distribution\")\n",
        "plt.show()"
      ],
      "metadata": {
        "colab": {
          "base_uri": "https://localhost:8080/",
          "height": 469
        },
        "id": "-3lxzJKbCg_F",
        "outputId": "7034f194-2c50-4eb7-8774-0d8c9693ecb7"
      },
      "execution_count": null,
      "outputs": [
        {
          "output_type": "stream",
          "name": "stdout",
          "text": [
            "ROC AUC: 0.7314144736842105\n"
          ]
        },
        {
          "output_type": "display_data",
          "data": {
            "text/plain": [
              "<Figure size 640x480 with 1 Axes>"
            ],
            "image/png": "[encoded data removed]"
          },
          "metadata": {}
        }
      ]
    },
    {
      "cell_type": "code",
      "source": [],
      "metadata": {
        "id": "n3HSiUbaGUWv"
      },
      "execution_count": null,
      "outputs": []
    }
  ]
}